{
 "cells": [
  {
   "cell_type": "markdown",
   "id": "nervous-teaching",
   "metadata": {},
   "source": [
    "# Cureya Task 1"
   ]
  },
  {
   "cell_type": "markdown",
   "id": "structural-fisher",
   "metadata": {},
   "source": [
    "List, Tuple and Dictionary"
   ]
  },
  {
   "cell_type": "markdown",
   "id": "forced-albuquerque",
   "metadata": {},
   "source": [
    "1. List"
   ]
  },
  {
   "cell_type": "code",
   "execution_count": 3,
   "id": "labeled-south",
   "metadata": {},
   "outputs": [
    {
     "name": "stdout",
     "output_type": "stream",
     "text": [
      "[]\n",
      "[1, 2, 3]\n",
      "[1, 'Hello', 3.4]\n"
     ]
    }
   ],
   "source": [
    "# empty list\n",
    "my_list = []\n",
    "print(my_list)\n",
    "\n",
    "# list of integers\n",
    "my_list1 = [1, 2, 3]\n",
    "print(my_list1)\n",
    "\n",
    "# list with mixed data types\n",
    "my_list2 = [1, \"Hello\", 3.4]\n",
    "print(my_list2)"
   ]
  },
  {
   "cell_type": "markdown",
   "id": "aquatic-relevance",
   "metadata": {},
   "source": [
    "2. Tuple"
   ]
  },
  {
   "cell_type": "code",
   "execution_count": 4,
   "id": "studied-assignment",
   "metadata": {},
   "outputs": [
    {
     "name": "stdout",
     "output_type": "stream",
     "text": [
      "()\n",
      "(1, 2, 3)\n",
      "(1, 'Hello', 3.4)\n"
     ]
    }
   ],
   "source": [
    "# Empty tuple\n",
    "my_tuple = ()\n",
    "print(my_tuple)\n",
    "\n",
    "# Tuple having integers\n",
    "my_tuple = (1, 2, 3)\n",
    "print(my_tuple)\n",
    "\n",
    "# tuple with mixed datatypes\n",
    "my_tuple = (1, \"Hello\", 3.4)\n",
    "print(my_tuple)"
   ]
  },
  {
   "cell_type": "markdown",
   "id": "smart-forest",
   "metadata": {},
   "source": [
    "3. Dictionary"
   ]
  },
  {
   "cell_type": "code",
   "execution_count": 6,
   "id": "functional-modem",
   "metadata": {},
   "outputs": [
    {
     "name": "stdout",
     "output_type": "stream",
     "text": [
      "{}\n",
      "{1: 'apple', 2: 'ball'}\n",
      "{'name': 'John', 1: [2, 4, 3]}\n",
      "{1: 'apple', 2: 'ball'}\n"
     ]
    }
   ],
   "source": [
    "# empty dictionary\n",
    "my_dict = {}\n",
    "print(my_dict)\n",
    "\n",
    "# dictionary with integer keys\n",
    "my_dict1 = {1: 'apple', 2: 'ball'}\n",
    "print(my_dict1)\n",
    "\n",
    "# dictionary with mixed keys\n",
    "my_dict2 = {'name': 'John', 1: [2, 4, 3]}\n",
    "print(my_dict2)\n",
    "\n",
    "# using dict()\n",
    "my_dict3 = dict({1:'apple', 2:'ball'})\n",
    "print(my_dict3)"
   ]
  },
  {
   "cell_type": "markdown",
   "id": "searching-domestic",
   "metadata": {},
   "source": [
    "Addition, Subtraction and Multiplication"
   ]
  },
  {
   "cell_type": "markdown",
   "id": "hourly-genetics",
   "metadata": {},
   "source": [
    "1. Add"
   ]
  },
  {
   "cell_type": "code",
   "execution_count": 7,
   "id": "prescribed-annex",
   "metadata": {},
   "outputs": [
    {
     "name": "stdout",
     "output_type": "stream",
     "text": [
      "The sum of 1.5 and 6.3 is 7.8\n"
     ]
    }
   ],
   "source": [
    "# This program adds two numbers\n",
    "\n",
    "num1 = 1.5\n",
    "num2 = 6.3\n",
    "\n",
    "# Add two numbers\n",
    "sum = num1 + num2\n",
    "\n",
    "# Display the sum\n",
    "print('The sum of {0} and {1} is {2}'.format(num1, num2, sum))"
   ]
  },
  {
   "cell_type": "markdown",
   "id": "enabling-internet",
   "metadata": {},
   "source": [
    "2. Sub"
   ]
  },
  {
   "cell_type": "code",
   "execution_count": 8,
   "id": "funky-detail",
   "metadata": {},
   "outputs": [
    {
     "name": "stdout",
     "output_type": "stream",
     "text": [
      "The subtract of 67.9 and 56.8 is 11.100000000000009\n"
     ]
    }
   ],
   "source": [
    "# This program sub two numbers\n",
    "num1=56.8; \n",
    "num2=67.9;\n",
    "#Subtract two numbers\n",
    "sub=num2-num1;\n",
    "#display the result of substraction\n",
    "print(\"The subtract of {0} and {1} is {2}\".format(num2,num1,sub) )"
   ]
  },
  {
   "cell_type": "markdown",
   "id": "worst-tumor",
   "metadata": {},
   "source": [
    "3. Multiplication"
   ]
  },
  {
   "cell_type": "code",
   "execution_count": 9,
   "id": "boolean-valuable",
   "metadata": {},
   "outputs": [
    {
     "name": "stdout",
     "output_type": "stream",
     "text": [
      "Enter the first number: 3\n",
      "Enter the second number: 3\n",
      "the product of given numbers is:  9\n"
     ]
    }
   ],
   "source": [
    "num1=int(input(\"Enter the first number: \"))\n",
    "#input value for variable num1\n",
    "\n",
    "num2=int(input(\"Enter the second number: \"))\n",
    "#input value for variable num2\n",
    "\n",
    "mul=num1*num2;\n",
    "#perform multiplication operation\n",
    "\n",
    "print(\"the product of given numbers is: \",mul)\n",
    "#display the product"
   ]
  },
  {
   "cell_type": "markdown",
   "id": "printable-brunei",
   "metadata": {},
   "source": [
    "Min and Max"
   ]
  },
  {
   "cell_type": "markdown",
   "id": "atomic-afternoon",
   "metadata": {},
   "source": [
    "1. Max"
   ]
  },
  {
   "cell_type": "code",
   "execution_count": 10,
   "id": "encouraging-fiber",
   "metadata": {},
   "outputs": [
    {
     "name": "stdout",
     "output_type": "stream",
     "text": [
      "The largest number is: 10\n"
     ]
    }
   ],
   "source": [
    "number = [3, 2, 8, 5, 10, 6]\n",
    "largest_number = max(number);\n",
    "\n",
    "print(\"The largest number is:\", largest_number)"
   ]
  },
  {
   "cell_type": "markdown",
   "id": "equipped-hebrew",
   "metadata": {},
   "source": [
    "2. Min"
   ]
  },
  {
   "cell_type": "code",
   "execution_count": 11,
   "id": "alien-sacrifice",
   "metadata": {},
   "outputs": [
    {
     "name": "stdout",
     "output_type": "stream",
     "text": [
      "The smallest number is: 2\n"
     ]
    }
   ],
   "source": [
    "number = [3, 2, 8, 5, 10, 6]\n",
    "smallest_number = min(number);\n",
    "\n",
    "print(\"The smallest number is:\", smallest_number)"
   ]
  },
  {
   "cell_type": "markdown",
   "id": "supreme-vacation",
   "metadata": {},
   "source": [
    "If...Else statement , while Loops and For Loops"
   ]
  },
  {
   "cell_type": "markdown",
   "id": "floral-crossing",
   "metadata": {},
   "source": [
    "1. If Statement"
   ]
  },
  {
   "cell_type": "code",
   "execution_count": 1,
   "id": "fifth-escape",
   "metadata": {},
   "outputs": [
    {
     "name": "stdout",
     "output_type": "stream",
     "text": [
      "b is greater than a\n"
     ]
    }
   ],
   "source": [
    "a = 33\n",
    "b = 200\n",
    "if b > a:\n",
    "  print(\"b is greater than a\")"
   ]
  },
  {
   "cell_type": "markdown",
   "id": "diverse-panama",
   "metadata": {},
   "source": [
    "2. Elif Statement"
   ]
  },
  {
   "cell_type": "code",
   "execution_count": 2,
   "id": "victorian-threshold",
   "metadata": {},
   "outputs": [
    {
     "name": "stdout",
     "output_type": "stream",
     "text": [
      "a and b are equal\n"
     ]
    }
   ],
   "source": [
    "a = 33\n",
    "b = 33\n",
    "if b > a:\n",
    "  print(\"b is greater than a\")\n",
    "elif a == b:\n",
    "  print(\"a and b are equal\")"
   ]
  },
  {
   "cell_type": "markdown",
   "id": "permanent-upset",
   "metadata": {},
   "source": [
    "3. Else Statement"
   ]
  },
  {
   "cell_type": "code",
   "execution_count": 3,
   "id": "offshore-pricing",
   "metadata": {},
   "outputs": [
    {
     "name": "stdout",
     "output_type": "stream",
     "text": [
      "a is greater than b\n"
     ]
    }
   ],
   "source": [
    "a = 200\n",
    "b = 33\n",
    "if b > a:\n",
    "  print(\"b is greater than a\")\n",
    "elif a == b:\n",
    "  print(\"a and b are equal\")\n",
    "else:\n",
    "  print(\"a is greater than b\")"
   ]
  },
  {
   "cell_type": "markdown",
   "id": "published-minutes",
   "metadata": {},
   "source": [
    "4. While Loops"
   ]
  },
  {
   "cell_type": "code",
   "execution_count": 4,
   "id": "improving-rebound",
   "metadata": {},
   "outputs": [
    {
     "name": "stdout",
     "output_type": "stream",
     "text": [
      "1\n",
      "2\n",
      "3\n",
      "4\n",
      "5\n"
     ]
    }
   ],
   "source": [
    "i = 1\n",
    "while i < 6:\n",
    "  print(i)\n",
    "  i += 1"
   ]
  },
  {
   "cell_type": "markdown",
   "id": "latter-columbia",
   "metadata": {},
   "source": [
    "5. For Loops"
   ]
  },
  {
   "cell_type": "code",
   "execution_count": 5,
   "id": "referenced-recipient",
   "metadata": {},
   "outputs": [
    {
     "name": "stdout",
     "output_type": "stream",
     "text": [
      "apple\n",
      "banana\n",
      "cherry\n"
     ]
    }
   ],
   "source": [
    "fruits = [\"apple\", \"banana\", \"cherry\"]\n",
    "for x in fruits:\n",
    "  print(x)"
   ]
  },
  {
   "cell_type": "code",
   "execution_count": 1,
   "id": "bronze-rhythm",
   "metadata": {},
   "outputs": [
    {
     "name": "stdout",
     "output_type": "stream",
     "text": [
      "Requirement already satisfied: pandas in c:\\users\\ssshe\\appdata\\local\\programs\\python\\python37\\lib\\site-packages (1.2.1)\n",
      "Requirement already satisfied: python-dateutil>=2.7.3 in c:\\users\\ssshe\\appdata\\local\\programs\\python\\python37\\lib\\site-packages (from pandas) (2.8.1)\n",
      "Requirement already satisfied: numpy>=1.16.5 in c:\\users\\ssshe\\appdata\\local\\programs\\python\\python37\\lib\\site-packages (from pandas) (1.20.0)\n",
      "Requirement already satisfied: pytz>=2017.3 in c:\\users\\ssshe\\appdata\\local\\programs\\python\\python37\\lib\\site-packages (from pandas) (2021.1)\n",
      "Requirement already satisfied: six>=1.5 in c:\\users\\ssshe\\appdata\\local\\programs\\python\\python37\\lib\\site-packages (from python-dateutil>=2.7.3->pandas) (1.15.0)\n"
     ]
    },
    {
     "name": "stderr",
     "output_type": "stream",
     "text": [
      "WARNING: You are using pip version 20.1.1; however, version 21.0.1 is available.\n",
      "You should consider upgrading via the 'c:\\users\\ssshe\\appdata\\local\\programs\\python\\python37\\python.exe -m pip install --upgrade pip' command.\n"
     ]
    },
    {
     "name": "stdout",
     "output_type": "stream",
     "text": [
      "Collecting sklearn\n",
      "  Using cached sklearn-0.0.tar.gz (1.1 kB)\n",
      "Collecting scikit-learn\n",
      "  Downloading scikit_learn-0.24.1-cp37-cp37m-win_amd64.whl (6.8 MB)\n",
      "Requirement already satisfied: numpy>=1.13.3 in c:\\users\\ssshe\\appdata\\local\\programs\\python\\python37\\lib\\site-packages (from scikit-learn->sklearn) (1.20.0)\n",
      "Collecting scipy>=0.19.1\n",
      "  Downloading scipy-1.6.0-cp37-cp37m-win_amd64.whl (32.5 MB)\n",
      "Collecting threadpoolctl>=2.0.0\n",
      "  Using cached threadpoolctl-2.1.0-py3-none-any.whl (12 kB)\n",
      "Collecting joblib>=0.11\n",
      "  Downloading joblib-1.0.0-py3-none-any.whl (302 kB)\n",
      "Using legacy setup.py install for sklearn, since package 'wheel' is not installed.\n",
      "Installing collected packages: scipy, threadpoolctl, joblib, scikit-learn, sklearn\n",
      "    Running setup.py install for sklearn: started\n",
      "    Running setup.py install for sklearn: finished with status 'done'\n",
      "Successfully installed joblib-1.0.0 scikit-learn-0.24.1 scipy-1.6.0 sklearn-0.0 threadpoolctl-2.1.0\n"
     ]
    },
    {
     "name": "stderr",
     "output_type": "stream",
     "text": [
      "WARNING: You are using pip version 20.1.1; however, version 21.0.1 is available.\n",
      "You should consider upgrading via the 'c:\\users\\ssshe\\appdata\\local\\programs\\python\\python37\\python.exe -m pip install --upgrade pip' command.\n"
     ]
    },
    {
     "name": "stdout",
     "output_type": "stream",
     "text": [
      "Requirement already satisfied: numpy in c:\\users\\ssshe\\appdata\\local\\programs\\python\\python37\\lib\\site-packages (1.20.0)\n"
     ]
    },
    {
     "name": "stderr",
     "output_type": "stream",
     "text": [
      "WARNING: You are using pip version 20.1.1; however, version 21.0.1 is available.\n",
      "You should consider upgrading via the 'c:\\users\\ssshe\\appdata\\local\\programs\\python\\python37\\python.exe -m pip install --upgrade pip' command.\n"
     ]
    },
    {
     "name": "stdout",
     "output_type": "stream",
     "text": [
      "Collecting matplotlib\n",
      "  Downloading matplotlib-3.3.4-cp37-cp37m-win_amd64.whl (8.5 MB)\n",
      "Requirement already satisfied: python-dateutil>=2.1 in c:\\users\\ssshe\\appdata\\local\\programs\\python\\python37\\lib\\site-packages (from matplotlib) (2.8.1)\n",
      "Collecting cycler>=0.10\n",
      "  Using cached cycler-0.10.0-py2.py3-none-any.whl (6.5 kB)\n",
      "Requirement already satisfied: pyparsing!=2.0.4,!=2.1.2,!=2.1.6,>=2.0.3 in c:\\users\\ssshe\\appdata\\local\\programs\\python\\python37\\lib\\site-packages (from matplotlib) (2.4.7)\n",
      "Collecting pillow>=6.2.0\n",
      "  Downloading Pillow-8.1.0-cp37-cp37m-win_amd64.whl (2.2 MB)\n",
      "Collecting kiwisolver>=1.0.1\n",
      "  Downloading kiwisolver-1.3.1-cp37-cp37m-win_amd64.whl (51 kB)\n",
      "Requirement already satisfied: numpy>=1.15 in c:\\users\\ssshe\\appdata\\local\\programs\\python\\python37\\lib\\site-packages (from matplotlib) (1.20.0)\n",
      "Requirement already satisfied: six>=1.5 in c:\\users\\ssshe\\appdata\\local\\programs\\python\\python37\\lib\\site-packages (from python-dateutil>=2.1->matplotlib) (1.15.0)\n",
      "Installing collected packages: cycler, pillow, kiwisolver, matplotlib\n",
      "Successfully installed cycler-0.10.0 kiwisolver-1.3.1 matplotlib-3.3.4 pillow-8.1.0\n"
     ]
    },
    {
     "name": "stderr",
     "output_type": "stream",
     "text": [
      "WARNING: You are using pip version 20.1.1; however, version 21.0.1 is available.\n",
      "You should consider upgrading via the 'c:\\users\\ssshe\\appdata\\local\\programs\\python\\python37\\python.exe -m pip install --upgrade pip' command.\n"
     ]
    }
   ],
   "source": [
    "!pip install pandas\n",
    "!pip install sklearn\n",
    "!pip install numpy\n",
    "!pip install matplotlib"
   ]
  },
  {
   "cell_type": "markdown",
   "id": "illegal-parker",
   "metadata": {},
   "source": [
    "# Numpy"
   ]
  },
  {
   "cell_type": "markdown",
   "id": "featured-provider",
   "metadata": {},
   "source": [
    "1. Matrix Multiplication"
   ]
  },
  {
   "cell_type": "code",
   "execution_count": 1,
   "id": "emotional-system",
   "metadata": {},
   "outputs": [
    {
     "name": "stdout",
     "output_type": "stream",
     "text": [
      "Matrix p :\n",
      "[[1, 2], [2, 3]]\n",
      "Matrix q :\n",
      "[[4, 5], [6, 7]]\n",
      "The matrix multiplication is :\n",
      "[[16 19]\n",
      " [26 31]]\n"
     ]
    }
   ],
   "source": [
    "# importing the module\n",
    "import numpy as np\n",
    "  \n",
    "# creating two matrices\n",
    "p = [[1, 2], [2, 3]]\n",
    "q = [[4, 5], [6, 7]]\n",
    "print(\"Matrix p :\")\n",
    "print(p)\n",
    "print(\"Matrix q :\")\n",
    "print(q)\n",
    "  \n",
    "# computing product\n",
    "result = np.dot(p, q)\n",
    "  \n",
    "# printing the result\n",
    "print(\"The matrix multiplication is :\")\n",
    "print(result)"
   ]
  },
  {
   "cell_type": "markdown",
   "id": "atmospheric-freeze",
   "metadata": {},
   "source": [
    "2. Adding element of the Matrix"
   ]
  },
  {
   "cell_type": "code",
   "execution_count": 2,
   "id": "competitive-collins",
   "metadata": {},
   "outputs": [
    {
     "name": "stdout",
     "output_type": "stream",
     "text": [
      "Printing elements of first matrix\n",
      "[[1 2]\n",
      " [3 4]]\n",
      "Printing elements of second matrix\n",
      "[[4 5]\n",
      " [6 7]]\n",
      "Addition of two matrix\n",
      "[[ 5  7]\n",
      " [ 9 11]]\n"
     ]
    }
   ],
   "source": [
    "# importing numpy as np\n",
    "import numpy as np\n",
    "  \n",
    "  \n",
    "# creating first matrix\n",
    "A = np.array([[1, 2], [3, 4]])\n",
    "  \n",
    "# creating second matrix\n",
    "B = np.array([[4, 5], [6, 7]])\n",
    "  \n",
    "print(\"Printing elements of first matrix\")\n",
    "print(A)\n",
    "print(\"Printing elements of second matrix\")\n",
    "print(B)\n",
    "  \n",
    "# adding two matrix\n",
    "print(\"Addition of two matrix\")\n",
    "print(np.add(A, B))"
   ]
  },
  {
   "cell_type": "markdown",
   "id": "vocational-landing",
   "metadata": {},
   "source": [
    "3. Subtracting elements of Matrices"
   ]
  },
  {
   "cell_type": "code",
   "execution_count": 3,
   "id": "young-lafayette",
   "metadata": {},
   "outputs": [
    {
     "name": "stdout",
     "output_type": "stream",
     "text": [
      "Printing elements of first matrix\n",
      "[[1 2]\n",
      " [3 4]]\n",
      "Printing elements of second matrix\n",
      "[[4 5]\n",
      " [6 7]]\n",
      "Subtraction of two matrix\n",
      "[[-3 -3]\n",
      " [-3 -3]]\n"
     ]
    }
   ],
   "source": [
    "# importing numpy as np\n",
    "import numpy as np\n",
    "  \n",
    "  \n",
    "# creating first matrix\n",
    "A = np.array([[1, 2], [3, 4]])\n",
    "  \n",
    "# creating second matrix\n",
    "B = np.array([[4, 5], [6, 7]])\n",
    "  \n",
    "print(\"Printing elements of first matrix\")\n",
    "print(A)\n",
    "print(\"Printing elements of second matrix\")\n",
    "print(B)\n",
    "  \n",
    "# subtracting two matrix\n",
    "print(\"Subtraction of two matrix\")\n",
    "print(np.subtract(A, B))"
   ]
  },
  {
   "cell_type": "markdown",
   "id": "facial-coaching",
   "metadata": {},
   "source": [
    "4. Inverse of a Matrix using Numpy"
   ]
  },
  {
   "cell_type": "code",
   "execution_count": 4,
   "id": "fixed-banner",
   "metadata": {},
   "outputs": [
    {
     "name": "stdout",
     "output_type": "stream",
     "text": [
      "[[ 0.17647059 -0.00326797 -0.02287582]\n",
      " [ 0.05882353 -0.13071895  0.08496732]\n",
      " [-0.11764706  0.1503268   0.05228758]]\n"
     ]
    }
   ],
   "source": [
    "# Python program to inverse\n",
    "# a matrix using numpy\n",
    "  \n",
    "# Import required package\n",
    "import numpy as np\n",
    "  \n",
    "# Taking a 3 * 3 matrix\n",
    "A = np.array([[6, 1, 1],\n",
    "              [4, -2, 5],\n",
    "              [2, 8, 7]])\n",
    "  \n",
    "# Calculating the inverse of the matrix\n",
    "print(np.linalg.inv(A))"
   ]
  },
  {
   "cell_type": "markdown",
   "id": "least-portland",
   "metadata": {},
   "source": [
    "# Pandas"
   ]
  },
  {
   "cell_type": "markdown",
   "id": "technological-essence",
   "metadata": {},
   "source": [
    "1. Create a Dataframe using two-dimensional List"
   ]
  },
  {
   "cell_type": "code",
   "execution_count": 6,
   "id": "hollywood-surge",
   "metadata": {},
   "outputs": [
    {
     "name": "stdout",
     "output_type": "stream",
     "text": [
      "   Tag  number\n",
      "0  ABC      25\n",
      "1  DEF      30\n",
      "2  GHI      26\n",
      "3  JKL      22\n"
     ]
    }
   ],
   "source": [
    "# import pandas as pd \n",
    "import pandas as pd  \n",
    "      \n",
    "# List1  \n",
    "lst = [['ABC', 25], ['DEF', 30], \n",
    "       ['GHI', 26], ['JKL', 22]] \n",
    "  \n",
    "# creating df object with columns specified    \n",
    "df = pd.DataFrame(lst, columns =['Tag', 'number']) \n",
    "print(df )"
   ]
  },
  {
   "cell_type": "markdown",
   "id": "associate-conditions",
   "metadata": {},
   "source": [
    "2. Creating DataFrame from dict of narray/lists"
   ]
  },
  {
   "cell_type": "code",
   "execution_count": 17,
   "id": "binding-bridges",
   "metadata": {},
   "outputs": [
    {
     "name": "stdout",
     "output_type": "stream",
     "text": [
      "  Category  Marks\n",
      "0    Array     20\n",
      "1    Stack     21\n",
      "2    Queue     19\n"
     ]
    }
   ],
   "source": [
    "# Python code demonstrate creating\n",
    "# DataFrame from dict narray / lists\n",
    "# By default addresses.\n",
    " \n",
    "import pandas as pd\n",
    " \n",
    "# initialise data of lists.\n",
    "data = {'Category':['Array', 'Stack', 'Queue'],\n",
    "        'Marks':[20, 21, 19]}\n",
    " \n",
    "# Create DataFrame\n",
    "df = pd.DataFrame(data)\n",
    " \n",
    "# Print the output.\n",
    "print(df )"
   ]
  },
  {
   "cell_type": "markdown",
   "id": "driven-separation",
   "metadata": {},
   "source": [
    "3. Create a Pandas DataFrame from List of Dicts"
   ]
  },
  {
   "cell_type": "code",
   "execution_count": 20,
   "id": "worth-prisoner",
   "metadata": {},
   "outputs": [
    {
     "name": "stdout",
     "output_type": "stream",
     "text": [
      "           ABCD    EFG\n",
      "ind1  dataframe  using\n",
      "ind2         10     20 \n",
      "\n",
      "           ABCD    EFG  HIJK\n",
      "indx  dataframe  using  list\n",
      "indy         10     20    30\n"
     ]
    }
   ],
   "source": [
    "# Python code demonstrate how to create  \n",
    "# Pandas DataFrame by lists of dicts. \n",
    "import pandas as pd \n",
    "    \n",
    "# Initialise data to lists. \n",
    "data = [{'ABCD': 'dataframe', 'EFG': 'using', 'HIJK': 'list'},\n",
    "        {'ABCD':10, 'EFG': 20, 'HIJK': 30}] \n",
    "    \n",
    "# With two column indices, values same  \n",
    "# as dictionary keys \n",
    "df1 = pd.DataFrame(data, index =['ind1', 'ind2'],\n",
    "                      columns =['ABCD', 'EFG']) \n",
    "     \n",
    "# With two column indices with  \n",
    "# one index with other name \n",
    "df2 = pd.DataFrame(data, index =['indx', 'indy']) \n",
    "     \n",
    "# print for first data frame \n",
    "print (df1, \"\\n\") \n",
    "     \n",
    "# Print for second DataFrame. \n",
    "print (df2) "
   ]
  },
  {
   "cell_type": "markdown",
   "id": "distinct-saturday",
   "metadata": {},
   "source": [
    "4. Convert list of nested dictionary into Pandas dataframe"
   ]
  },
  {
   "cell_type": "code",
   "execution_count": 21,
   "id": "smart-questionnaire",
   "metadata": {},
   "outputs": [
    {
     "name": "stdout",
     "output_type": "stream",
     "text": [
      "         Name  Maths  Physics  Chemistry\n",
      "0  ABCD EFGHI   89.0     80.0        NaN\n",
      "1   JKLM NOPQ   90.0     99.0       97.0\n"
     ]
    }
   ],
   "source": [
    "# Python program to convert list of nested \n",
    "# dictionary into Pandas dataframe\n",
    "  \n",
    "# importing pandas\n",
    "import pandas as pd\n",
    "  \n",
    "# List of list of dictionary initialization\n",
    "list = [\n",
    "        {\n",
    "        \"Student\": [{\"Exam\": 90, \"Grade\": \"a\"},\n",
    "                    {\"Exam\": 99, \"Grade\": \"b\"},\n",
    "                    {\"Exam\": 97, \"Grade\": \"c\"},\n",
    "                   ],\n",
    "        \"Name\": \"JKLM NOPQ\"\n",
    "        },\n",
    "        {\n",
    "        \"Student\": [{\"Exam\": 89, \"Grade\": \"a\"},\n",
    "                    {\"Exam\": 80, \"Grade\": \"b\"}\n",
    "                  ],\n",
    "        \"Name\": \"ABCD EFGHI\"\n",
    "        }\n",
    "       ]\n",
    "  \n",
    "# rows list initialization\n",
    "rows = []\n",
    "  \n",
    "# appending rows\n",
    "for data in list:\n",
    "    data_row = data['Student']\n",
    "    time = data['Name']\n",
    "      \n",
    "    for row in data_row:\n",
    "        row['Name']= time\n",
    "        rows.append(row)\n",
    "  \n",
    "# using data frame\n",
    "df = pd.DataFrame(rows)\n",
    "  \n",
    "# using pivot_table\n",
    "df = df.pivot_table(index ='Name', columns =['Grade'],\n",
    "                        values =['Exam']).reset_index()\n",
    "  \n",
    "# Defining columns\n",
    "df.columns =['Name', 'Maths', 'Physics', 'Chemistry']\n",
    "  \n",
    "# print dataframe\n",
    "print(df)"
   ]
  },
  {
   "cell_type": "markdown",
   "id": "abstract-control",
   "metadata": {},
   "source": [
    "# Matplotlib"
   ]
  },
  {
   "cell_type": "markdown",
   "id": "normal-trance",
   "metadata": {},
   "source": [
    "1. Histogram"
   ]
  },
  {
   "cell_type": "code",
   "execution_count": 22,
   "id": "blessed-absolute",
   "metadata": {},
   "outputs": [
    {
     "data": {
      "image/png": "[encoded data removed]",
      "text/plain": [
       "<Figure size 432x288 with 1 Axes>"
      ]
     },
     "metadata": {
      "needs_background": "light"
     },
     "output_type": "display_data"
    }
   ],
   "source": [
    "import matplotlib.pyplot as plt\n",
    "population_age = [22,55,62,45,21,22,34,42,42,4,2,102,95,85,55,110,120,70,65,55,111,115,80,75,65,54,44,43,42,48]\n",
    "bins = [0,10,20,30,40,50,60,70,80,90,100]\n",
    "plt.hist(population_age, bins, histtype='bar', rwidth=0.8)\n",
    "plt.xlabel('age groups')\n",
    "plt.ylabel('Number of people')\n",
    "plt.title('Histogram')\n",
    "plt.show()"
   ]
  },
  {
   "cell_type": "markdown",
   "id": "bottom-slope",
   "metadata": {},
   "source": [
    "2. Bar Graph"
   ]
  },
  {
   "cell_type": "code",
   "execution_count": 23,
   "id": "pretty-stable",
   "metadata": {},
   "outputs": [
    {
     "data": {
      "image/png": "[encoded data removed]",
      "text/plain": [
       "<Figure size 432x288 with 1 Axes>"
      ]
     },
     "metadata": {
      "needs_background": "light"
     },
     "output_type": "display_data"
    }
   ],
   "source": [
    "from matplotlib import pyplot as plt\n",
    " \n",
    "plt.bar([0.25,1.25,2.25,3.25,4.25],[50,40,70,80,20],\n",
    "label=\"BMW\",width=.5)\n",
    "plt.bar([.75,1.75,2.75,3.75,4.75],[80,20,20,50,60],\n",
    "label=\"Audi\", color='r',width=.5)\n",
    "plt.legend()\n",
    "plt.xlabel('Days')\n",
    "plt.ylabel('Distance (kms)')\n",
    "plt.title('Information')\n",
    "plt.show()"
   ]
  },
  {
   "cell_type": "markdown",
   "id": "golden-roberts",
   "metadata": {},
   "source": [
    "3. Scatter Plot"
   ]
  },
  {
   "cell_type": "code",
   "execution_count": 24,
   "id": "olive-stylus",
   "metadata": {},
   "outputs": [
    {
     "data": {
      "image/png": "[encoded data removed]",
      "text/plain": [
       "<Figure size 432x288 with 1 Axes>"
      ]
     },
     "metadata": {
      "needs_background": "light"
     },
     "output_type": "display_data"
    }
   ],
   "source": [
    "import matplotlib.pyplot as plt\n",
    "x = [1,1.5,2,2.5,3,3.5,3.6]\n",
    "y = [7.5,8,8.5,9,9.5,10,10.5]\n",
    " \n",
    "x1=[8,8.5,9,9.5,10,10.5,11]\n",
    "y1=[3,3.5,3.7,4,4.5,5,5.2]\n",
    " \n",
    "plt.scatter(x,y, label='high income low saving',color='r')\n",
    "plt.scatter(x1,y1,label='low income high savings',color='b')\n",
    "plt.xlabel('saving*100')\n",
    "plt.ylabel('income*1000')\n",
    "plt.title('Scatter Plot')\n",
    "plt.legend()\n",
    "plt.show()"
   ]
  },
  {
   "cell_type": "markdown",
   "id": "vanilla-greek",
   "metadata": {},
   "source": [
    "# Sklearn"
   ]
  },
  {
   "cell_type": "code",
   "execution_count": 25,
   "id": "moved-ensemble",
   "metadata": {},
   "outputs": [
    {
     "name": "stdout",
     "output_type": "stream",
     "text": [
      "{'data': array([[ 0.,  0.,  5., ...,  0.,  0.,  0.],\n",
      "       [ 0.,  0.,  0., ..., 10.,  0.,  0.],\n",
      "       [ 0.,  0.,  0., ..., 16.,  9.,  0.],\n",
      "       ...,\n",
      "       [ 0.,  0.,  1., ...,  6.,  0.,  0.],\n",
      "       [ 0.,  0.,  2., ..., 12.,  0.,  0.],\n",
      "       [ 0.,  0., 10., ..., 12.,  1.,  0.]]), 'target': array([0, 1, 2, ..., 8, 9, 8]), 'frame': None, 'feature_names': ['pixel_0_0', 'pixel_0_1', 'pixel_0_2', 'pixel_0_3', 'pixel_0_4', 'pixel_0_5', 'pixel_0_6', 'pixel_0_7', 'pixel_1_0', 'pixel_1_1', 'pixel_1_2', 'pixel_1_3', 'pixel_1_4', 'pixel_1_5', 'pixel_1_6', 'pixel_1_7', 'pixel_2_0', 'pixel_2_1', 'pixel_2_2', 'pixel_2_3', 'pixel_2_4', 'pixel_2_5', 'pixel_2_6', 'pixel_2_7', 'pixel_3_0', 'pixel_3_1', 'pixel_3_2', 'pixel_3_3', 'pixel_3_4', 'pixel_3_5', 'pixel_3_6', 'pixel_3_7', 'pixel_4_0', 'pixel_4_1', 'pixel_4_2', 'pixel_4_3', 'pixel_4_4', 'pixel_4_5', 'pixel_4_6', 'pixel_4_7', 'pixel_5_0', 'pixel_5_1', 'pixel_5_2', 'pixel_5_3', 'pixel_5_4', 'pixel_5_5', 'pixel_5_6', 'pixel_5_7', 'pixel_6_0', 'pixel_6_1', 'pixel_6_2', 'pixel_6_3', 'pixel_6_4', 'pixel_6_5', 'pixel_6_6', 'pixel_6_7', 'pixel_7_0', 'pixel_7_1', 'pixel_7_2', 'pixel_7_3', 'pixel_7_4', 'pixel_7_5', 'pixel_7_6', 'pixel_7_7'], 'target_names': array([0, 1, 2, 3, 4, 5, 6, 7, 8, 9]), 'images': array([[[ 0.,  0.,  5., ...,  1.,  0.,  0.],\n",
      "        [ 0.,  0., 13., ..., 15.,  5.,  0.],\n",
      "        [ 0.,  3., 15., ..., 11.,  8.,  0.],\n",
      "        ...,\n",
      "        [ 0.,  4., 11., ..., 12.,  7.,  0.],\n",
      "        [ 0.,  2., 14., ..., 12.,  0.,  0.],\n",
      "        [ 0.,  0.,  6., ...,  0.,  0.,  0.]],\n",
      "\n",
      "       [[ 0.,  0.,  0., ...,  5.,  0.,  0.],\n",
      "        [ 0.,  0.,  0., ...,  9.,  0.,  0.],\n",
      "        [ 0.,  0.,  3., ...,  6.,  0.,  0.],\n",
      "        ...,\n",
      "        [ 0.,  0.,  1., ...,  6.,  0.,  0.],\n",
      "        [ 0.,  0.,  1., ...,  6.,  0.,  0.],\n",
      "        [ 0.,  0.,  0., ..., 10.,  0.,  0.]],\n",
      "\n",
      "       [[ 0.,  0.,  0., ..., 12.,  0.,  0.],\n",
      "        [ 0.,  0.,  3., ..., 14.,  0.,  0.],\n",
      "        [ 0.,  0.,  8., ..., 16.,  0.,  0.],\n",
      "        ...,\n",
      "        [ 0.,  9., 16., ...,  0.,  0.,  0.],\n",
      "        [ 0.,  3., 13., ..., 11.,  5.,  0.],\n",
      "        [ 0.,  0.,  0., ..., 16.,  9.,  0.]],\n",
      "\n",
      "       ...,\n",
      "\n",
      "       [[ 0.,  0.,  1., ...,  1.,  0.,  0.],\n",
      "        [ 0.,  0., 13., ...,  2.,  1.,  0.],\n",
      "        [ 0.,  0., 16., ..., 16.,  5.,  0.],\n",
      "        ...,\n",
      "        [ 0.,  0., 16., ..., 15.,  0.,  0.],\n",
      "        [ 0.,  0., 15., ..., 16.,  0.,  0.],\n",
      "        [ 0.,  0.,  2., ...,  6.,  0.,  0.]],\n",
      "\n",
      "       [[ 0.,  0.,  2., ...,  0.,  0.,  0.],\n",
      "        [ 0.,  0., 14., ..., 15.,  1.,  0.],\n",
      "        [ 0.,  4., 16., ..., 16.,  7.,  0.],\n",
      "        ...,\n",
      "        [ 0.,  0.,  0., ..., 16.,  2.,  0.],\n",
      "        [ 0.,  0.,  4., ..., 16.,  2.,  0.],\n",
      "        [ 0.,  0.,  5., ..., 12.,  0.,  0.]],\n",
      "\n",
      "       [[ 0.,  0., 10., ...,  1.,  0.,  0.],\n",
      "        [ 0.,  2., 16., ...,  1.,  0.,  0.],\n",
      "        [ 0.,  0., 15., ..., 15.,  0.,  0.],\n",
      "        ...,\n",
      "        [ 0.,  4., 16., ..., 16.,  6.,  0.],\n",
      "        [ 0.,  8., 16., ..., 16.,  8.,  0.],\n",
      "        [ 0.,  1.,  8., ..., 12.,  1.,  0.]]]), 'DESCR': \".. _digits_dataset:\\n\\nOptical recognition of handwritten digits dataset\\n--------------------------------------------------\\n\\n**Data Set Characteristics:**\\n\\n    :Number of Instances: 1797\\n    :Number of Attributes: 64\\n    :Attribute Information: 8x8 image of integer pixels in the range 0..16.\\n    :Missing Attribute Values: None\\n    :Creator: E. Alpaydin (alpaydin '@' boun.edu.tr)\\n    :Date: July; 1998\\n\\nThis is a copy of the test set of the UCI ML hand-written digits datasets\\nhttps://archive.ics.uci.edu/ml/datasets/Optical+Recognition+of+Handwritten+Digits\\n\\nThe data set contains images of hand-written digits: 10 classes where\\neach class refers to a digit.\\n\\nPreprocessing programs made available by NIST were used to extract\\nnormalized bitmaps of handwritten digits from a preprinted form. From a\\ntotal of 43 people, 30 contributed to the training set and different 13\\nto the test set. 32x32 bitmaps are divided into nonoverlapping blocks of\\n4x4 and the number of on pixels are counted in each block. This generates\\nan input matrix of 8x8 where each element is an integer in the range\\n0..16. This reduces dimensionality and gives invariance to small\\ndistortions.\\n\\nFor info on NIST preprocessing routines, see M. D. Garris, J. L. Blue, G.\\nT. Candela, D. L. Dimmick, J. Geist, P. J. Grother, S. A. Janet, and C.\\nL. Wilson, NIST Form-Based Handprint Recognition System, NISTIR 5469,\\n1994.\\n\\n.. topic:: References\\n\\n  - C. Kaynak (1995) Methods of Combining Multiple Classifiers and Their\\n    Applications to Handwritten Digit Recognition, MSc Thesis, Institute of\\n    Graduate Studies in Science and Engineering, Bogazici University.\\n  - E. Alpaydin, C. Kaynak (1998) Cascading Classifiers, Kybernetika.\\n  - Ken Tang and Ponnuthurai N. Suganthan and Xi Yao and A. Kai Qin.\\n    Linear dimensionalityreduction using relevance weighted LDA. School of\\n    Electrical and Electronic Engineering Nanyang Technological University.\\n    2005.\\n  - Claudio Gentile. A New Approximate Maximal Margin Classification\\n    Algorithm. NIPS. 2000.\\n\"}\n"
     ]
    }
   ],
   "source": [
    "# Import `datasets` from `sklearn`\n",
    "from sklearn import datasets\n",
    "\n",
    "# Load in the `digits` data\n",
    "digits = datasets.load_digits()\n",
    "\n",
    "# Print the `digits` data \n",
    "print(digits)"
   ]
  },
  {
   "cell_type": "code",
   "execution_count": 26,
   "id": "periodic-persian",
   "metadata": {},
   "outputs": [
    {
     "name": "stdout",
     "output_type": "stream",
     "text": [
      "      0   1   2   3   4   5   6   7   8   9   ...  55  56  57  58  59  60  61  \\\n",
      "0      0   1   6  15  12   1   0   0   0   7  ...   0   0   0   6  14   7   1   \n",
      "1      0   0  10  16   6   0   0   0   0   7  ...   0   0   0  10  16  15   3   \n",
      "2      0   0   8  15  16  13   0   0   0   1  ...   0   0   0   9  14   0   0   \n",
      "3      0   0   0   3  11  16   0   0   0   0  ...   0   0   0   0   1  15   2   \n",
      "4      0   0   5  14   4   0   0   0   0   0  ...   0   0   0   4  12  14   7   \n",
      "...   ..  ..  ..  ..  ..  ..  ..  ..  ..  ..  ...  ..  ..  ..  ..  ..  ..  ..   \n",
      "3818   0   0   5  13  11   2   0   0   0   2  ...   0   0   0   8  13  15  10   \n",
      "3819   0   0   0   1  12   1   0   0   0   0  ...   0   0   0   0   4   9   0   \n",
      "3820   0   0   3  15   0   0   0   0   0   0  ...   0   0   0   4  14  16   9   \n",
      "3821   0   0   6  16   2   0   0   0   0   0  ...   0   0   0   5  16  16  16   \n",
      "3822   0   0   2  15  16  13   1   0   0   0  ...   0   0   0   4  14   1   0   \n",
      "\n",
      "      62  63  64  \n",
      "0      0   0   0  \n",
      "1      0   0   0  \n",
      "2      0   0   7  \n",
      "3      0   0   4  \n",
      "4      0   0   6  \n",
      "...   ..  ..  ..  \n",
      "3818   1   0   9  \n",
      "3819   0   0   4  \n",
      "3820   0   0   6  \n",
      "3821   5   0   6  \n",
      "3822   0   0   7  \n",
      "\n",
      "[3823 rows x 65 columns]\n"
     ]
    }
   ],
   "source": [
    "# Import the `pandas` library as `pd`\n",
    "import pandas as pd\n",
    "\n",
    "# Load in the data with `read_csv()`\n",
    "digits = pd.read_csv(\"http://archive.ics.uci.edu/ml/machine-learning-databases/optdigits/optdigits.tra\", header=None)\n",
    "\n",
    "# Print out `digits`\n",
    "print(digits)"
   ]
  },
  {
   "cell_type": "code",
   "execution_count": 32,
   "id": "closing-batman",
   "metadata": {},
   "outputs": [
    {
     "name": "stdout",
     "output_type": "stream",
     "text": [
      "Int64Index([ 0,  1,  2,  3,  4,  5,  6,  7,  8,  9, 10, 11, 12, 13, 14, 15, 16,\n",
      "            17, 18, 19, 20, 21, 22, 23, 24, 25, 26, 27, 28, 29, 30, 31, 32, 33,\n",
      "            34, 35, 36, 37, 38, 39, 40, 41, 42, 43, 44, 45, 46, 47, 48, 49, 50,\n",
      "            51, 52, 53, 54, 55, 56, 57, 58, 59, 60, 61, 62, 63, 64],\n",
      "           dtype='int64')\n"
     ]
    }
   ],
   "source": [
    "# Get the keys of the `digits` data\n",
    "print(digits.keys())\n"
   ]
  },
  {
   "cell_type": "code",
   "execution_count": null,
   "id": "mobile-rugby",
   "metadata": {},
   "outputs": [],
   "source": []
  }
 ],
 "metadata": {
  "kernelspec": {
   "display_name": "Python 3",
   "language": "python",
   "name": "python3"
  },
  "language_info": {
   "codemirror_mode": {
    "name": "ipython",
    "version": 3
   },
   "file_extension": ".py",
   "mimetype": "text/x-python",
   "name": "python",
   "nbconvert_exporter": "python",
   "pygments_lexer": "ipython3",
   "version": "3.7.9"
  }
 },
 "nbformat": 4,
 "nbformat_minor": 5
}
